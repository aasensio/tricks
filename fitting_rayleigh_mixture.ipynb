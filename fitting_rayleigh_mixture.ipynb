{
 "cells": [
  {
   "cell_type": "code",
   "execution_count": 27,
   "metadata": {
    "collapsed": false
   },
   "outputs": [],
   "source": [
    "%matplotlib inline\n",
    "import numpy as np\n",
    "import matplotlib.pyplot as pl\n",
    "import scipy.stats as st\n",
    "import scipy.misc as mi\n",
    "import scipy.optimize as op"
   ]
  },
  {
   "cell_type": "code",
   "execution_count": 6,
   "metadata": {
    "collapsed": false
   },
   "outputs": [],
   "source": [
    "N = 2000\n",
    "choice = np.random.choice(2, size=N, p=[0.3,0.7])"
   ]
  },
  {
   "cell_type": "code",
   "execution_count": 12,
   "metadata": {
    "collapsed": false
   },
   "outputs": [],
   "source": [
    "ran1 = st.rayleigh.rvs(loc=0, scale=1, size=2000)\n",
    "ran2 = st.rayleigh.rvs(loc=0, scale=10, size=2000)\n",
    "ran = np.append(ran1[choice == 0], ran2[choice == 1])"
   ]
  },
  {
   "cell_type": "code",
   "execution_count": 78,
   "metadata": {
    "collapsed": false
   },
   "outputs": [
    {
     "data": {
      "image/png": "[encoded data removed]",
      "text/plain": [
       "<matplotlib.figure.Figure at 0x110846908>"
      ]
     },
     "metadata": {},
     "output_type": "display_data"
    }
   ],
   "source": [
    "h, x, _ = pl.hist(ran, bins=30, normed=True)"
   ]
  },
  {
   "cell_type": "code",
   "execution_count": 72,
   "metadata": {
    "collapsed": true
   },
   "outputs": [],
   "source": [
    "def fun(x):\n",
    "    \"\"\"\n",
    "    This function implements the log-likelihood. Since we are fitting a mixture, we have\n",
    "    to use the logaddexp trick to do that and avoid underflow.\n",
    "    \"\"\"\n",
    "    logp = np.logaddexp(np.log(x[2]) + st.rayleigh.logpdf(ran, loc=0, scale=x[0]), np.log(1.0-x[2]) + st.rayleigh.logpdf(ran, loc=0, scale=x[1]))\n",
    "    return -np.sum(logp)"
   ]
  },
  {
   "cell_type": "code",
   "execution_count": 73,
   "metadata": {
    "collapsed": false
   },
   "outputs": [],
   "source": [
    "x0 = np.array([0.5,1.0,0.5])\n",
    "bnds = ((0, None),(0,None),(0.0,1.0))\n",
    "res = op.minimize(fun, x0, method='L-BFGS-B', jac=False, bounds=bnds, tol=1e-6)"
   ]
  },
  {
   "cell_type": "code",
   "execution_count": 83,
   "metadata": {
    "collapsed": false
   },
   "outputs": [],
   "source": [
    "x_fine = np.linspace(0.0,30,500)\n",
    "sigma_1, sigma_2, f = res['x']\n",
    "pdf = f * st.rayleigh.pdf(x_fine, loc=0, scale=sigma_1) + (1-f) * st.rayleigh.pdf(x_fine, loc=0, scale=sigma_2)"
   ]
  },
  {
   "cell_type": "code",
   "execution_count": 85,
   "metadata": {
    "collapsed": false
   },
   "outputs": [
    {
     "data": {
      "text/plain": [
       "[<matplotlib.lines.Line2D at 0x110b88dd8>]"
      ]
     },
     "execution_count": 85,
     "metadata": {},
     "output_type": "execute_result"
    },
    {
     "data": {
      "image/png": "[encoded data removed]",
      "text/plain": [
       "<matplotlib.figure.Figure at 0x110b88e10>"
      ]
     },
     "metadata": {},
     "output_type": "display_data"
    }
   ],
   "source": [
    "f, ax = pl.subplots()\n",
    "ax.hist(ran, bins=30, normed=True)\n",
    "ax.plot(x_fine, pdf)"
   ]
  },
  {
   "cell_type": "code",
   "execution_count": null,
   "metadata": {
    "collapsed": true
   },
   "outputs": [],
   "source": []
  }
 ],
 "metadata": {
  "kernelspec": {
   "display_name": "Python 3",
   "language": "python",
   "name": "python3"
  },
  "language_info": {
   "codemirror_mode": {
    "name": "ipython",
    "version": 3
   },
   "file_extension": ".py",
   "mimetype": "text/x-python",
   "name": "python",
   "nbconvert_exporter": "python",
   "pygments_lexer": "ipython3",
   "version": "3.5.2"
  }
 },
 "nbformat": 4,
 "nbformat_minor": 0
}
